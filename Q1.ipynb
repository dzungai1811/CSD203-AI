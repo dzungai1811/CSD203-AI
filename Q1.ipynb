{
 "cells": [
  {
   "cell_type": "code",
   "execution_count": null,
   "id": "634c3fa4",
   "metadata": {},
   "outputs": [],
   "source": [
    "class EmptyStackException(Exception):\n",
    "    pass\n",
    "\n",
    "class StackNode:\n",
    "    def __init__(self, value):\n",
    "        self.value = value\n",
    "        self.next = None\n",
    "\n",
    "class Stack:\n",
    "    def __init__(self):\n",
    "        self.top = None\n",
    "\n",
    "    def isEmpty(self):\n",
    "        return self.top is None\n",
    "\n",
    "    def clear(self):\n",
    "        self.top = None\n",
    "\n",
    "    def push(self, x):\n",
    "        new_node = StackNode(x)\n",
    "        new_node.next = self.top\n",
    "        self.top = new_node\n",
    "\n",
    "    def pop(self):\n",
    "        if self.isEmpty():\n",
    "            raise EmptyStackException(\"Stack is empty\")\n",
    "        value = self.top.value\n",
    "        self.top = self.top.next\n",
    "        return value\n",
    "\n",
    "    def top(self):\n",
    "        if self.isEmpty():\n",
    "            raise EmptyStackException(\"Stack is empty\")\n",
    "        return self.top.value\n",
    "\n",
    "    def traverse(self):\n",
    "        current = self.top\n",
    "        while current:\n",
    "            print(current.value, end=\" \")\n",
    "            current = current.next\n",
    "        print()\n",
    "\n",
    "def decimal_to_binary(decimal):\n",
    "    stack = Stack()\n",
    "    while decimal > 0:\n",
    "        remainder = decimal % 2\n",
    "        stack.push(remainder)\n",
    "        decimal = decimal // 2\n",
    "\n",
    "    binary = \"\"\n",
    "    while not stack.isEmpty():\n",
    "        binary += str(stack.pop())\n",
    "\n",
    "    return binary"
   ]
  }
 ],
 "metadata": {
  "kernelspec": {
   "display_name": "Python 3 (ipykernel)",
   "language": "python",
   "name": "python3"
  },
  "language_info": {
   "codemirror_mode": {
    "name": "ipython",
    "version": 3
   },
   "file_extension": ".py",
   "mimetype": "text/x-python",
   "name": "python",
   "nbconvert_exporter": "python",
   "pygments_lexer": "ipython3",
   "version": "3.11.5"
  }
 },
 "nbformat": 4,
 "nbformat_minor": 5
}
